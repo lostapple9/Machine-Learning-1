{
  "nbformat": 4,
  "nbformat_minor": 0,
  "metadata": {
    "colab": {
      "name": "Hidden Markov Models.ipynb",
      "provenance": [],
      "authorship_tag": "ABX9TyPFNjgG0JXy9it1f7Thsc6q",
      "include_colab_link": true
    },
    "kernelspec": {
      "name": "python3",
      "display_name": "Python 3"
    },
    "language_info": {
      "name": "python"
    }
  },
  "cells": [
    {
      "cell_type": "markdown",
      "metadata": {
        "id": "view-in-github",
        "colab_type": "text"
      },
      "source": [
        "<a href=\"https://colab.research.google.com/github/lostapple9/Machine-Learning-1/blob/main/Hidden_Markov_Models.ipynb\" target=\"_parent\"><img src=\"https://colab.research.google.com/assets/colab-badge.svg\" alt=\"Open In Colab\"/></a>"
      ]
    },
    {
      "cell_type": "markdown",
      "source": [
        "https://colab.research.google.com/drive/15Cyy2H7nT40sGR7TBN5wBvgTd57mVKay#forceEdit=true&sandboxMode=true&scrollTo=ssOcn-nIOCcV"
      ],
      "metadata": {
        "id": "9CCxeT1zmLVz"
      }
    },
    {
      "cell_type": "code",
      "execution_count": 1,
      "metadata": {
        "id": "VEC5SFRyuiTM",
        "colab": {
          "base_uri": "https://localhost:8080/"
        },
        "outputId": "549a5480-b9d4-473c-dbee-60fbb0799e63"
      },
      "outputs": [
        {
          "output_type": "stream",
          "name": "stdout",
          "text": [
            "`%tensorflow_version` only switches the major version: 1.x or 2.x.\n",
            "You set: `2.x # this line is not required unless you are in a notebook`. This will be interpreted as: `2.x`.\n",
            "\n",
            "\n",
            "TensorFlow 2.x selected.\n"
          ]
        }
      ],
      "source": [
        "%tensorflow_version 2.x # this line is not required unless you are in a notebook"
      ]
    },
    {
      "cell_type": "code",
      "source": [
        "import tensorflow_probability as tfp # we are using a different module from tensorflow this time\n",
        "import tensorflow as tf"
      ],
      "metadata": {
        "id": "F5ynhGI-Dbjy"
      },
      "execution_count": 2,
      "outputs": []
    },
    {
      "cell_type": "markdown",
      "source": [
        "\n",
        "\n",
        "1. Cold days are encoded by a 0 and hot days are encoded by a 1.\n",
        "2. The first day in our sequence has an 80% chance of being cold.\n",
        "3. A cold day has a 30% chance of being followed by a hot day.\n",
        "4. A hot day has a 20% chance of being followed by a cold day.\n",
        "5. On each day the temperature is\n",
        " normally distributed with mean and standard deviation 0 and 5 on\n",
        " a cold day and mean and standard deviation 15 and 10 on a hot day.\n",
        "\n"
      ],
      "metadata": {
        "id": "6t1XXGZ_GIj-"
      }
    },
    {
      "cell_type": "code",
      "source": [
        "tfd = tfp.distributions # make a shortcut for later on\n",
        "initial_distribution = tfd.Categorical(probs=[0.8, 0.2]) #refer to point 2 above\n",
        "transition_distribution = tfd.Categorical(probs=[[0.7, 0.3],\n",
        "                                                 [0.2, 0.8]]) # refer to point 3 and 4 above\n",
        "observation_distribution = tfd.Normal(loc=[0.,15.], scale=[5., 10.]) # refer to point 5 above\n",
        "\n",
        "# the loc argument represents the mean and the scale is the standard devitation"
      ],
      "metadata": {
        "id": "zj-F1G3fDl_5"
      },
      "execution_count": 6,
      "outputs": []
    },
    {
      "cell_type": "code",
      "source": [
        "model = tfd.HiddenMarkovModel(initial_distribution=initial_distribution, \n",
        "                              transition_distribution=transition_distribution, \n",
        "                              observation_distribution=observation_distribution, \n",
        "                              num_steps=7)"
      ],
      "metadata": {
        "id": "ISHcOHeHDmGh"
      },
      "execution_count": 7,
      "outputs": []
    },
    {
      "cell_type": "code",
      "source": [
        "mean = model.mean()\n",
        "# due to the way tensorflow works on a lower level we need to evaluate part of the graph\n",
        "# from within a session to see the value of this tensor\n",
        "\n",
        "# in the new version of tensorflow we need to use tf.compat.v1.Session() rather thean just tf.Session\n",
        "with tf.compat.v1.Session() as sess:\n",
        "  print(mean.numpy())"
      ],
      "metadata": {
        "colab": {
          "base_uri": "https://localhost:8080/"
        },
        "id": "gCfdwivVDmPp",
        "outputId": "42b79b0d-a9b9-4ad3-9b02-23ba2149c129"
      },
      "execution_count": 91,
      "outputs": [
        {
          "output_type": "stream",
          "name": "stdout",
          "text": [
            "[2.9999998 5.9999995 7.4999995 8.25      8.625001  8.812501  8.90625  ]\n"
          ]
        }
      ]
    }
  ]
}