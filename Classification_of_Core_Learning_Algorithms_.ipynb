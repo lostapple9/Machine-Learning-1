{
  "nbformat": 4,
  "nbformat_minor": 0,
  "metadata": {
    "colab": {
      "name": "Classification of Core Learning Algorithms .ipynb",
      "provenance": [],
      "authorship_tag": "ABX9TyOhpisZ0qqIuxE3ck00Ujff",
      "include_colab_link": true
    },
    "kernelspec": {
      "name": "python3",
      "display_name": "Python 3"
    },
    "language_info": {
      "name": "python"
    }
  },
  "cells": [
    {
      "cell_type": "markdown",
      "metadata": {
        "id": "view-in-github",
        "colab_type": "text"
      },
      "source": [
        "<a href=\"https://colab.research.google.com/github/lostapple9/Machine-Learning-1/blob/main/Classification_of_Core_Learning_Algorithms_.ipynb\" target=\"_parent\"><img src=\"https://colab.research.google.com/assets/colab-badge.svg\" alt=\"Open In Colab\"/></a>"
      ]
    },
    {
      "cell_type": "markdown",
      "source": [
        "This is an ML (machine learning) practice code for classification of different kinds of flowers. \n",
        "\n",
        "(All the information can be found here: https://www.youtube.com/watch?v=tPYj3fFJGjk&list=LL&index=10&ab_channel=freeCodeCamp.org),\n",
        "(https://colab.research.google.com/drive/15Cyy2H7nT40sGR7TBN5wBvgTd57mVKay#forceEdit=true&sandboxMode=true&scrollTo=K-NQRLv_fyhg),\n",
        "\n",
        "\n",
        "This is not my work (I modified it based on other people's code, (small percentage)). This code is based on Tim Ruscica's code (https://www.youtube.com/channel/UC4JX40jDee_tINbkjycV4Sg), where his code is based on examples that were provided by Google Colab's example.\n",
        "\n",
        "\n",
        "Last modified: 12/29/2021"
      ],
      "metadata": {
        "id": "Ao91WtS2S3yu"
      }
    },
    {
      "cell_type": "code",
      "execution_count": 1,
      "metadata": {
        "colab": {
          "base_uri": "https://localhost:8080/"
        },
        "id": "HsJl7h3qQsQA",
        "outputId": "e775f198-53bc-4a5d-974e-2718bf7832a1"
      },
      "outputs": [
        {
          "output_type": "stream",
          "name": "stdout",
          "text": [
            "`%tensorflow_version` only switches the major version: 1.x or 2.x.\n",
            "You set: `2.x # this line is not required unless you are in a notebook`. This will be interpreted as: `2.x`.\n",
            "\n",
            "\n",
            "TensorFlow 2.x selected.\n"
          ]
        }
      ],
      "source": [
        "%tensorflow_version 2.x # this line is not required unless you are in a notebook"
      ]
    },
    {
      "cell_type": "code",
      "source": [
        "from __future__ import absolute_import, division, print_function, unicode_literals\n",
        "import tensorflow as tf\n",
        "import pandas as pd"
      ],
      "metadata": {
        "id": "RozKF-gZT7oL"
      },
      "execution_count": 2,
      "outputs": []
    },
    {
      "cell_type": "code",
      "source": [
        "CSV_COLUMN_NAMES = ['SepalLength', 'SepalWidth', 'PetalLength', 'PetalWidth', 'Species']\n",
        "SPECIES = ['Setosa', 'Versicolor', 'Virginica']\n",
        "# Lets define some constants to help us later on\n",
        "\n",
        "\"\"\"\n",
        "This specific dataset seperates flowers into 3 different classes of species.\n",
        "\n",
        "Setosa\n",
        "Versicolor\n",
        "Virginica\n",
        "\n",
        "The information about each flower is the following.\n",
        "\n",
        "sepal length\n",
        "sepal width\n",
        "petal length\n",
        "petal width\n",
        "\"\"\""
      ],
      "metadata": {
        "colab": {
          "base_uri": "https://localhost:8080/",
          "height": 52
        },
        "id": "Ps-2JWnYUJ5w",
        "outputId": "9163759f-0e1e-4127-8e0c-336959c1c0ea"
      },
      "execution_count": 3,
      "outputs": [
        {
          "output_type": "execute_result",
          "data": {
            "application/vnd.google.colaboratory.intrinsic+json": {
              "type": "string"
            },
            "text/plain": [
              "'\\nThis specific dataset seperates flowers into 3 different classes of species.\\n\\nSetosa\\nVersicolor\\nVirginica\\n\\nThe information about each flower is the following.\\n\\nsepal length\\nsepal width\\npetal length\\npetal width\\n'"
            ]
          },
          "metadata": {},
          "execution_count": 3
        }
      ]
    },
    {
      "cell_type": "code",
      "source": [
        "train_path = tf.keras.utils.get_file(\n",
        "    \"iris_training.cvs\", \"https://storage.googleapis.com/download.tensorflow.org/data/iris_training.csv\")\n",
        "test_path = tf.keras.utils.get_file(\n",
        "    \"iris_test.cvs\", \"https://storage.googleapis.com/download.tensorflow.org/data/iris_test.csv\")\n",
        "\n",
        "train = pd.read_csv(train_path, names=CSV_COLUMN_NAMES, header=0)\n",
        "test = pd.read_csv(test_path, names=CSV_COLUMN_NAMES, header=0)\n",
        "# here we use karas (a module inside TensorFlow) to grab out datasets and read them into a pandas dataframe."
      ],
      "metadata": {
        "id": "Tz4Zw7M5UyGm"
      },
      "execution_count": 7,
      "outputs": []
    },
    {
      "cell_type": "code",
      "source": [
        "train.head() # This shows the head of dataset of the training data\n",
        "\n",
        "# Types of flowers are represented in species by numbers."
      ],
      "metadata": {
        "colab": {
          "base_uri": "https://localhost:8080/",
          "height": 204
        },
        "id": "sR-MdrxrUyMN",
        "outputId": "3678a715-f631-44df-dccf-89d12600111b"
      },
      "execution_count": 9,
      "outputs": [
        {
          "output_type": "execute_result",
          "data": {
            "text/html": [
              "\n",
              "  <div id=\"df-77a64785-d7d3-4f5f-a20a-196adce01207\">\n",
              "    <div class=\"colab-df-container\">\n",
              "      <div>\n",
              "<style scoped>\n",
              "    .dataframe tbody tr th:only-of-type {\n",
              "        vertical-align: middle;\n",
              "    }\n",
              "\n",
              "    .dataframe tbody tr th {\n",
              "        vertical-align: top;\n",
              "    }\n",
              "\n",
              "    .dataframe thead th {\n",
              "        text-align: right;\n",
              "    }\n",
              "</style>\n",
              "<table border=\"1\" class=\"dataframe\">\n",
              "  <thead>\n",
              "    <tr style=\"text-align: right;\">\n",
              "      <th></th>\n",
              "      <th>SepalLength</th>\n",
              "      <th>SepalWidth</th>\n",
              "      <th>PetalLength</th>\n",
              "      <th>PetalWidth</th>\n",
              "      <th>Species</th>\n",
              "    </tr>\n",
              "  </thead>\n",
              "  <tbody>\n",
              "    <tr>\n",
              "      <th>0</th>\n",
              "      <td>6.4</td>\n",
              "      <td>2.8</td>\n",
              "      <td>5.6</td>\n",
              "      <td>2.2</td>\n",
              "      <td>2</td>\n",
              "    </tr>\n",
              "    <tr>\n",
              "      <th>1</th>\n",
              "      <td>5.0</td>\n",
              "      <td>2.3</td>\n",
              "      <td>3.3</td>\n",
              "      <td>1.0</td>\n",
              "      <td>1</td>\n",
              "    </tr>\n",
              "    <tr>\n",
              "      <th>2</th>\n",
              "      <td>4.9</td>\n",
              "      <td>2.5</td>\n",
              "      <td>4.5</td>\n",
              "      <td>1.7</td>\n",
              "      <td>2</td>\n",
              "    </tr>\n",
              "    <tr>\n",
              "      <th>3</th>\n",
              "      <td>4.9</td>\n",
              "      <td>3.1</td>\n",
              "      <td>1.5</td>\n",
              "      <td>0.1</td>\n",
              "      <td>0</td>\n",
              "    </tr>\n",
              "    <tr>\n",
              "      <th>4</th>\n",
              "      <td>5.7</td>\n",
              "      <td>3.8</td>\n",
              "      <td>1.7</td>\n",
              "      <td>0.3</td>\n",
              "      <td>0</td>\n",
              "    </tr>\n",
              "  </tbody>\n",
              "</table>\n",
              "</div>\n",
              "      <button class=\"colab-df-convert\" onclick=\"convertToInteractive('df-77a64785-d7d3-4f5f-a20a-196adce01207')\"\n",
              "              title=\"Convert this dataframe to an interactive table.\"\n",
              "              style=\"display:none;\">\n",
              "        \n",
              "  <svg xmlns=\"http://www.w3.org/2000/svg\" height=\"24px\"viewBox=\"0 0 24 24\"\n",
              "       width=\"24px\">\n",
              "    <path d=\"M0 0h24v24H0V0z\" fill=\"none\"/>\n",
              "    <path d=\"M18.56 5.44l.94 2.06.94-2.06 2.06-.94-2.06-.94-.94-2.06-.94 2.06-2.06.94zm-11 1L8.5 8.5l.94-2.06 2.06-.94-2.06-.94L8.5 2.5l-.94 2.06-2.06.94zm10 10l.94 2.06.94-2.06 2.06-.94-2.06-.94-.94-2.06-.94 2.06-2.06.94z\"/><path d=\"M17.41 7.96l-1.37-1.37c-.4-.4-.92-.59-1.43-.59-.52 0-1.04.2-1.43.59L10.3 9.45l-7.72 7.72c-.78.78-.78 2.05 0 2.83L4 21.41c.39.39.9.59 1.41.59.51 0 1.02-.2 1.41-.59l7.78-7.78 2.81-2.81c.8-.78.8-2.07 0-2.86zM5.41 20L4 18.59l7.72-7.72 1.47 1.35L5.41 20z\"/>\n",
              "  </svg>\n",
              "      </button>\n",
              "      \n",
              "  <style>\n",
              "    .colab-df-container {\n",
              "      display:flex;\n",
              "      flex-wrap:wrap;\n",
              "      gap: 12px;\n",
              "    }\n",
              "\n",
              "    .colab-df-convert {\n",
              "      background-color: #E8F0FE;\n",
              "      border: none;\n",
              "      border-radius: 50%;\n",
              "      cursor: pointer;\n",
              "      display: none;\n",
              "      fill: #1967D2;\n",
              "      height: 32px;\n",
              "      padding: 0 0 0 0;\n",
              "      width: 32px;\n",
              "    }\n",
              "\n",
              "    .colab-df-convert:hover {\n",
              "      background-color: #E2EBFA;\n",
              "      box-shadow: 0px 1px 2px rgba(60, 64, 67, 0.3), 0px 1px 3px 1px rgba(60, 64, 67, 0.15);\n",
              "      fill: #174EA6;\n",
              "    }\n",
              "\n",
              "    [theme=dark] .colab-df-convert {\n",
              "      background-color: #3B4455;\n",
              "      fill: #D2E3FC;\n",
              "    }\n",
              "\n",
              "    [theme=dark] .colab-df-convert:hover {\n",
              "      background-color: #434B5C;\n",
              "      box-shadow: 0px 1px 3px 1px rgba(0, 0, 0, 0.15);\n",
              "      filter: drop-shadow(0px 1px 2px rgba(0, 0, 0, 0.3));\n",
              "      fill: #FFFFFF;\n",
              "    }\n",
              "  </style>\n",
              "\n",
              "      <script>\n",
              "        const buttonEl =\n",
              "          document.querySelector('#df-77a64785-d7d3-4f5f-a20a-196adce01207 button.colab-df-convert');\n",
              "        buttonEl.style.display =\n",
              "          google.colab.kernel.accessAllowed ? 'block' : 'none';\n",
              "\n",
              "        async function convertToInteractive(key) {\n",
              "          const element = document.querySelector('#df-77a64785-d7d3-4f5f-a20a-196adce01207');\n",
              "          const dataTable =\n",
              "            await google.colab.kernel.invokeFunction('convertToInteractive',\n",
              "                                                     [key], {});\n",
              "          if (!dataTable) return;\n",
              "\n",
              "          const docLinkHtml = 'Like what you see? Visit the ' +\n",
              "            '<a target=\"_blank\" href=https://colab.research.google.com/notebooks/data_table.ipynb>data table notebook</a>'\n",
              "            + ' to learn more about interactive tables.';\n",
              "          element.innerHTML = '';\n",
              "          dataTable['output_type'] = 'display_data';\n",
              "          await google.colab.output.renderOutput(dataTable, element);\n",
              "          const docLink = document.createElement('div');\n",
              "          docLink.innerHTML = docLinkHtml;\n",
              "          element.appendChild(docLink);\n",
              "        }\n",
              "      </script>\n",
              "    </div>\n",
              "  </div>\n",
              "  "
            ],
            "text/plain": [
              "   SepalLength  SepalWidth  PetalLength  PetalWidth  Species\n",
              "0          6.4         2.8          5.6         2.2        2\n",
              "1          5.0         2.3          3.3         1.0        1\n",
              "2          4.9         2.5          4.5         1.7        2\n",
              "3          4.9         3.1          1.5         0.1        0\n",
              "4          5.7         3.8          1.7         0.3        0"
            ]
          },
          "metadata": {},
          "execution_count": 9
        }
      ]
    },
    {
      "cell_type": "code",
      "source": [
        "train_y = train.pop('Species') # pop/hide/delete the species colum off\n",
        "test_y = test.pop('Species')\n",
        "train.head() # the species colum is now gone"
      ],
      "metadata": {
        "colab": {
          "base_uri": "https://localhost:8080/",
          "height": 204
        },
        "id": "2lYpAD5TWrHS",
        "outputId": "0bf8e76e-5f6e-4647-fe7a-35f8aebab355"
      },
      "execution_count": 10,
      "outputs": [
        {
          "output_type": "execute_result",
          "data": {
            "text/html": [
              "\n",
              "  <div id=\"df-15b479db-4736-4b80-ab29-28ad05da6eca\">\n",
              "    <div class=\"colab-df-container\">\n",
              "      <div>\n",
              "<style scoped>\n",
              "    .dataframe tbody tr th:only-of-type {\n",
              "        vertical-align: middle;\n",
              "    }\n",
              "\n",
              "    .dataframe tbody tr th {\n",
              "        vertical-align: top;\n",
              "    }\n",
              "\n",
              "    .dataframe thead th {\n",
              "        text-align: right;\n",
              "    }\n",
              "</style>\n",
              "<table border=\"1\" class=\"dataframe\">\n",
              "  <thead>\n",
              "    <tr style=\"text-align: right;\">\n",
              "      <th></th>\n",
              "      <th>SepalLength</th>\n",
              "      <th>SepalWidth</th>\n",
              "      <th>PetalLength</th>\n",
              "      <th>PetalWidth</th>\n",
              "    </tr>\n",
              "  </thead>\n",
              "  <tbody>\n",
              "    <tr>\n",
              "      <th>0</th>\n",
              "      <td>6.4</td>\n",
              "      <td>2.8</td>\n",
              "      <td>5.6</td>\n",
              "      <td>2.2</td>\n",
              "    </tr>\n",
              "    <tr>\n",
              "      <th>1</th>\n",
              "      <td>5.0</td>\n",
              "      <td>2.3</td>\n",
              "      <td>3.3</td>\n",
              "      <td>1.0</td>\n",
              "    </tr>\n",
              "    <tr>\n",
              "      <th>2</th>\n",
              "      <td>4.9</td>\n",
              "      <td>2.5</td>\n",
              "      <td>4.5</td>\n",
              "      <td>1.7</td>\n",
              "    </tr>\n",
              "    <tr>\n",
              "      <th>3</th>\n",
              "      <td>4.9</td>\n",
              "      <td>3.1</td>\n",
              "      <td>1.5</td>\n",
              "      <td>0.1</td>\n",
              "    </tr>\n",
              "    <tr>\n",
              "      <th>4</th>\n",
              "      <td>5.7</td>\n",
              "      <td>3.8</td>\n",
              "      <td>1.7</td>\n",
              "      <td>0.3</td>\n",
              "    </tr>\n",
              "  </tbody>\n",
              "</table>\n",
              "</div>\n",
              "      <button class=\"colab-df-convert\" onclick=\"convertToInteractive('df-15b479db-4736-4b80-ab29-28ad05da6eca')\"\n",
              "              title=\"Convert this dataframe to an interactive table.\"\n",
              "              style=\"display:none;\">\n",
              "        \n",
              "  <svg xmlns=\"http://www.w3.org/2000/svg\" height=\"24px\"viewBox=\"0 0 24 24\"\n",
              "       width=\"24px\">\n",
              "    <path d=\"M0 0h24v24H0V0z\" fill=\"none\"/>\n",
              "    <path d=\"M18.56 5.44l.94 2.06.94-2.06 2.06-.94-2.06-.94-.94-2.06-.94 2.06-2.06.94zm-11 1L8.5 8.5l.94-2.06 2.06-.94-2.06-.94L8.5 2.5l-.94 2.06-2.06.94zm10 10l.94 2.06.94-2.06 2.06-.94-2.06-.94-.94-2.06-.94 2.06-2.06.94z\"/><path d=\"M17.41 7.96l-1.37-1.37c-.4-.4-.92-.59-1.43-.59-.52 0-1.04.2-1.43.59L10.3 9.45l-7.72 7.72c-.78.78-.78 2.05 0 2.83L4 21.41c.39.39.9.59 1.41.59.51 0 1.02-.2 1.41-.59l7.78-7.78 2.81-2.81c.8-.78.8-2.07 0-2.86zM5.41 20L4 18.59l7.72-7.72 1.47 1.35L5.41 20z\"/>\n",
              "  </svg>\n",
              "      </button>\n",
              "      \n",
              "  <style>\n",
              "    .colab-df-container {\n",
              "      display:flex;\n",
              "      flex-wrap:wrap;\n",
              "      gap: 12px;\n",
              "    }\n",
              "\n",
              "    .colab-df-convert {\n",
              "      background-color: #E8F0FE;\n",
              "      border: none;\n",
              "      border-radius: 50%;\n",
              "      cursor: pointer;\n",
              "      display: none;\n",
              "      fill: #1967D2;\n",
              "      height: 32px;\n",
              "      padding: 0 0 0 0;\n",
              "      width: 32px;\n",
              "    }\n",
              "\n",
              "    .colab-df-convert:hover {\n",
              "      background-color: #E2EBFA;\n",
              "      box-shadow: 0px 1px 2px rgba(60, 64, 67, 0.3), 0px 1px 3px 1px rgba(60, 64, 67, 0.15);\n",
              "      fill: #174EA6;\n",
              "    }\n",
              "\n",
              "    [theme=dark] .colab-df-convert {\n",
              "      background-color: #3B4455;\n",
              "      fill: #D2E3FC;\n",
              "    }\n",
              "\n",
              "    [theme=dark] .colab-df-convert:hover {\n",
              "      background-color: #434B5C;\n",
              "      box-shadow: 0px 1px 3px 1px rgba(0, 0, 0, 0.15);\n",
              "      filter: drop-shadow(0px 1px 2px rgba(0, 0, 0, 0.3));\n",
              "      fill: #FFFFFF;\n",
              "    }\n",
              "  </style>\n",
              "\n",
              "      <script>\n",
              "        const buttonEl =\n",
              "          document.querySelector('#df-15b479db-4736-4b80-ab29-28ad05da6eca button.colab-df-convert');\n",
              "        buttonEl.style.display =\n",
              "          google.colab.kernel.accessAllowed ? 'block' : 'none';\n",
              "\n",
              "        async function convertToInteractive(key) {\n",
              "          const element = document.querySelector('#df-15b479db-4736-4b80-ab29-28ad05da6eca');\n",
              "          const dataTable =\n",
              "            await google.colab.kernel.invokeFunction('convertToInteractive',\n",
              "                                                     [key], {});\n",
              "          if (!dataTable) return;\n",
              "\n",
              "          const docLinkHtml = 'Like what you see? Visit the ' +\n",
              "            '<a target=\"_blank\" href=https://colab.research.google.com/notebooks/data_table.ipynb>data table notebook</a>'\n",
              "            + ' to learn more about interactive tables.';\n",
              "          element.innerHTML = '';\n",
              "          dataTable['output_type'] = 'display_data';\n",
              "          await google.colab.output.renderOutput(dataTable, element);\n",
              "          const docLink = document.createElement('div');\n",
              "          docLink.innerHTML = docLinkHtml;\n",
              "          element.appendChild(docLink);\n",
              "        }\n",
              "      </script>\n",
              "    </div>\n",
              "  </div>\n",
              "  "
            ],
            "text/plain": [
              "   SepalLength  SepalWidth  PetalLength  PetalWidth\n",
              "0          6.4         2.8          5.6         2.2\n",
              "1          5.0         2.3          3.3         1.0\n",
              "2          4.9         2.5          4.5         1.7\n",
              "3          4.9         3.1          1.5         0.1\n",
              "4          5.7         3.8          1.7         0.3"
            ]
          },
          "metadata": {},
          "execution_count": 10
        }
      ]
    },
    {
      "cell_type": "code",
      "source": [
        "train.shape # we have 120 entries with 4 features. Total numbers of entries x features will be 120×4=480"
      ],
      "metadata": {
        "colab": {
          "base_uri": "https://localhost:8080/"
        },
        "id": "V1nbqeCLWrQv",
        "outputId": "a45ebb6e-d201-4fc9-b822-8667a3a0502c"
      },
      "execution_count": 11,
      "outputs": [
        {
          "output_type": "execute_result",
          "data": {
            "text/plain": [
              "(120, 4)"
            ]
          },
          "metadata": {},
          "execution_count": 11
        }
      ]
    },
    {
      "cell_type": "code",
      "source": [
        "def input_fn(features, labels, training=True, batch_size=256):\n",
        "  # Cover the inputs to a dataset.\n",
        "  dataset = tf.data.Dataset.from_tensor_slices((dict(features), labels))\n",
        "\n",
        "  # Shuffle and repeat if you are in training mode.\n",
        "  if training: # training=True\n",
        "    dataset = dataset.shuffle(1000).repeat()\n",
        "\n",
        "  return dataset.batch(batch_size)\n",
        "# instead of lambda we can use: return input_fn"
      ],
      "metadata": {
        "id": "_1OggZ4eWrY3"
      },
      "execution_count": 21,
      "outputs": []
    },
    {
      "cell_type": "code",
      "source": [
        "# Feature columns describe how to use the input.\n",
        "my_feature_columns = []\n",
        "for key in train.keys():\n",
        "    my_feature_columns.append(tf.feature_column.numeric_column(key=key))\n",
        "print(my_feature_columns)"
      ],
      "metadata": {
        "colab": {
          "base_uri": "https://localhost:8080/"
        },
        "id": "uSZskX42YI0F",
        "outputId": "a757c6ca-b95b-470d-ba1f-ba430e046fa5"
      },
      "execution_count": 22,
      "outputs": [
        {
          "output_type": "stream",
          "name": "stdout",
          "text": [
            "[NumericColumn(key='SepalLength', shape=(1,), default_value=None, dtype=tf.float32, normalizer_fn=None), NumericColumn(key='SepalWidth', shape=(1,), default_value=None, dtype=tf.float32, normalizer_fn=None), NumericColumn(key='PetalLength', shape=(1,), default_value=None, dtype=tf.float32, normalizer_fn=None), NumericColumn(key='PetalWidth', shape=(1,), default_value=None, dtype=tf.float32, normalizer_fn=None)]\n"
          ]
        }
      ]
    },
    {
      "cell_type": "code",
      "source": [
        "# Build a DNN (Deep Neural Network) with 2 hidden layers with 30 and 10 hidden nodes each.\n",
        "classifier = tf.estimator.DNNClassifier(\n",
        "    feature_columns=my_feature_columns,\n",
        "    # Two hidden layers of 30 and 10 nodes respectively.\n",
        "    hidden_units=[30, 10],\n",
        "    # The model must choose between 3 classes.\n",
        "    n_classes=3)"
      ],
      "metadata": {
        "colab": {
          "base_uri": "https://localhost:8080/"
        },
        "id": "CteCyoN-YJAS",
        "outputId": "c305a47c-7f3e-4b5e-c761-e771412e1b81"
      },
      "execution_count": 23,
      "outputs": [
        {
          "output_type": "stream",
          "name": "stdout",
          "text": [
            "INFO:tensorflow:Using default config.\n",
            "WARNING:tensorflow:Using temporary folder as model directory: /tmp/tmptflmj4id\n",
            "INFO:tensorflow:Using config: {'_model_dir': '/tmp/tmptflmj4id', '_tf_random_seed': None, '_save_summary_steps': 100, '_save_checkpoints_steps': None, '_save_checkpoints_secs': 600, '_session_config': allow_soft_placement: true\n",
            "graph_options {\n",
            "  rewrite_options {\n",
            "    meta_optimizer_iterations: ONE\n",
            "  }\n",
            "}\n",
            ", '_keep_checkpoint_max': 5, '_keep_checkpoint_every_n_hours': 10000, '_log_step_count_steps': 100, '_train_distribute': None, '_device_fn': None, '_protocol': None, '_eval_distribute': None, '_experimental_distribute': None, '_experimental_max_worker_delay_secs': None, '_session_creation_timeout_secs': 7200, '_checkpoint_save_graph_def': True, '_service': None, '_cluster_spec': ClusterSpec({}), '_task_type': 'worker', '_task_id': 0, '_global_id_in_cluster': 0, '_master': '', '_evaluation_master': '', '_is_chief': True, '_num_ps_replicas': 0, '_num_worker_replicas': 1}\n"
          ]
        }
      ]
    },
    {
      "cell_type": "code",
      "source": [
        "classifier.train(\n",
        "    input_fn=lambda: input_fn(train, train_y, training=True),\n",
        "    steps=5000)\n",
        "# We include a lambda to avoid creating an inner function previously"
      ],
      "metadata": {
        "colab": {
          "base_uri": "https://localhost:8080/"
        },
        "id": "O3pHWblgZsGX",
        "outputId": "754d8c2e-0a6f-4c57-a73d-0e3a7526ecae"
      },
      "execution_count": 24,
      "outputs": [
        {
          "output_type": "stream",
          "name": "stdout",
          "text": [
            "INFO:tensorflow:Calling model_fn.\n",
            "WARNING:tensorflow:From /usr/local/lib/python3.7/dist-packages/keras/optimizer_v2/adagrad.py:84: calling Constant.__init__ (from tensorflow.python.ops.init_ops) with dtype is deprecated and will be removed in a future version.\n",
            "Instructions for updating:\n",
            "Call initializer instance with the dtype argument instead of passing it to the constructor\n",
            "INFO:tensorflow:Done calling model_fn.\n",
            "INFO:tensorflow:Create CheckpointSaverHook.\n",
            "INFO:tensorflow:Graph was finalized.\n",
            "INFO:tensorflow:Running local_init_op.\n",
            "INFO:tensorflow:Done running local_init_op.\n",
            "INFO:tensorflow:Calling checkpoint listeners before saving checkpoint 0...\n",
            "INFO:tensorflow:Saving checkpoints for 0 into /tmp/tmptflmj4id/model.ckpt.\n",
            "INFO:tensorflow:Calling checkpoint listeners after saving checkpoint 0...\n",
            "INFO:tensorflow:loss = 1.2791948, step = 0\n",
            "INFO:tensorflow:global_step/sec: 351.302\n",
            "INFO:tensorflow:loss = 0.9938412, step = 100 (0.291 sec)\n",
            "INFO:tensorflow:global_step/sec: 444.09\n",
            "INFO:tensorflow:loss = 0.91461706, step = 200 (0.221 sec)\n",
            "INFO:tensorflow:global_step/sec: 394.02\n",
            "INFO:tensorflow:loss = 0.8503987, step = 300 (0.256 sec)\n",
            "INFO:tensorflow:global_step/sec: 409.435\n",
            "INFO:tensorflow:loss = 0.8065499, step = 400 (0.243 sec)\n",
            "INFO:tensorflow:global_step/sec: 410.373\n",
            "INFO:tensorflow:loss = 0.76444554, step = 500 (0.246 sec)\n",
            "INFO:tensorflow:global_step/sec: 458.309\n",
            "INFO:tensorflow:loss = 0.73312956, step = 600 (0.215 sec)\n",
            "INFO:tensorflow:global_step/sec: 456.708\n",
            "INFO:tensorflow:loss = 0.7022616, step = 700 (0.224 sec)\n",
            "INFO:tensorflow:global_step/sec: 389.687\n",
            "INFO:tensorflow:loss = 0.6738621, step = 800 (0.254 sec)\n",
            "INFO:tensorflow:global_step/sec: 441.257\n",
            "INFO:tensorflow:loss = 0.656759, step = 900 (0.228 sec)\n",
            "INFO:tensorflow:global_step/sec: 414.674\n",
            "INFO:tensorflow:loss = 0.61563754, step = 1000 (0.241 sec)\n",
            "INFO:tensorflow:global_step/sec: 425.835\n",
            "INFO:tensorflow:loss = 0.6154214, step = 1100 (0.234 sec)\n",
            "INFO:tensorflow:global_step/sec: 415.354\n",
            "INFO:tensorflow:loss = 0.5925783, step = 1200 (0.246 sec)\n",
            "INFO:tensorflow:global_step/sec: 400.084\n",
            "INFO:tensorflow:loss = 0.592857, step = 1300 (0.247 sec)\n",
            "INFO:tensorflow:global_step/sec: 413.257\n",
            "INFO:tensorflow:loss = 0.57473165, step = 1400 (0.240 sec)\n",
            "INFO:tensorflow:global_step/sec: 419.466\n",
            "INFO:tensorflow:loss = 0.5494902, step = 1500 (0.237 sec)\n",
            "INFO:tensorflow:global_step/sec: 434.241\n",
            "INFO:tensorflow:loss = 0.5509824, step = 1600 (0.231 sec)\n",
            "INFO:tensorflow:global_step/sec: 384.998\n",
            "INFO:tensorflow:loss = 0.54529977, step = 1700 (0.258 sec)\n",
            "INFO:tensorflow:global_step/sec: 416.234\n",
            "INFO:tensorflow:loss = 0.5260348, step = 1800 (0.244 sec)\n",
            "INFO:tensorflow:global_step/sec: 422.158\n",
            "INFO:tensorflow:loss = 0.5016421, step = 1900 (0.237 sec)\n",
            "INFO:tensorflow:global_step/sec: 416.113\n",
            "INFO:tensorflow:loss = 0.50149363, step = 2000 (0.240 sec)\n",
            "INFO:tensorflow:global_step/sec: 365.393\n",
            "INFO:tensorflow:loss = 0.5008952, step = 2100 (0.274 sec)\n",
            "INFO:tensorflow:global_step/sec: 392.988\n",
            "INFO:tensorflow:loss = 0.49584138, step = 2200 (0.253 sec)\n",
            "INFO:tensorflow:global_step/sec: 433.291\n",
            "INFO:tensorflow:loss = 0.48191172, step = 2300 (0.231 sec)\n",
            "INFO:tensorflow:global_step/sec: 404.344\n",
            "INFO:tensorflow:loss = 0.4696626, step = 2400 (0.247 sec)\n",
            "INFO:tensorflow:global_step/sec: 395.235\n",
            "INFO:tensorflow:loss = 0.47278896, step = 2500 (0.253 sec)\n",
            "INFO:tensorflow:global_step/sec: 448.898\n",
            "INFO:tensorflow:loss = 0.4567355, step = 2600 (0.224 sec)\n",
            "INFO:tensorflow:global_step/sec: 446.366\n",
            "INFO:tensorflow:loss = 0.45592475, step = 2700 (0.220 sec)\n",
            "INFO:tensorflow:global_step/sec: 428.522\n",
            "INFO:tensorflow:loss = 0.44717282, step = 2800 (0.237 sec)\n",
            "INFO:tensorflow:global_step/sec: 439.421\n",
            "INFO:tensorflow:loss = 0.46032292, step = 2900 (0.224 sec)\n",
            "INFO:tensorflow:global_step/sec: 404.335\n",
            "INFO:tensorflow:loss = 0.43160975, step = 3000 (0.250 sec)\n",
            "INFO:tensorflow:global_step/sec: 413.252\n",
            "INFO:tensorflow:loss = 0.4310339, step = 3100 (0.243 sec)\n",
            "INFO:tensorflow:global_step/sec: 434.325\n",
            "INFO:tensorflow:loss = 0.41865683, step = 3200 (0.229 sec)\n",
            "INFO:tensorflow:global_step/sec: 397.752\n",
            "INFO:tensorflow:loss = 0.42134464, step = 3300 (0.250 sec)\n",
            "INFO:tensorflow:global_step/sec: 408.251\n",
            "INFO:tensorflow:loss = 0.43108287, step = 3400 (0.243 sec)\n",
            "INFO:tensorflow:global_step/sec: 455.324\n",
            "INFO:tensorflow:loss = 0.4040442, step = 3500 (0.220 sec)\n",
            "INFO:tensorflow:global_step/sec: 473.351\n",
            "INFO:tensorflow:loss = 0.4093381, step = 3600 (0.213 sec)\n",
            "INFO:tensorflow:global_step/sec: 445.245\n",
            "INFO:tensorflow:loss = 0.4053624, step = 3700 (0.227 sec)\n",
            "INFO:tensorflow:global_step/sec: 408.643\n",
            "INFO:tensorflow:loss = 0.4051292, step = 3800 (0.244 sec)\n",
            "INFO:tensorflow:global_step/sec: 447.209\n",
            "INFO:tensorflow:loss = 0.4043674, step = 3900 (0.223 sec)\n",
            "INFO:tensorflow:global_step/sec: 443.14\n",
            "INFO:tensorflow:loss = 0.38861698, step = 4000 (0.225 sec)\n",
            "INFO:tensorflow:global_step/sec: 472.774\n",
            "INFO:tensorflow:loss = 0.38479567, step = 4100 (0.213 sec)\n",
            "INFO:tensorflow:global_step/sec: 451.885\n",
            "INFO:tensorflow:loss = 0.38054365, step = 4200 (0.221 sec)\n",
            "INFO:tensorflow:global_step/sec: 381.393\n",
            "INFO:tensorflow:loss = 0.3766902, step = 4300 (0.260 sec)\n",
            "INFO:tensorflow:global_step/sec: 389.97\n",
            "INFO:tensorflow:loss = 0.37783405, step = 4400 (0.256 sec)\n",
            "INFO:tensorflow:global_step/sec: 400.653\n",
            "INFO:tensorflow:loss = 0.374564, step = 4500 (0.254 sec)\n",
            "INFO:tensorflow:global_step/sec: 381.854\n",
            "INFO:tensorflow:loss = 0.37439072, step = 4600 (0.259 sec)\n",
            "INFO:tensorflow:global_step/sec: 389.797\n",
            "INFO:tensorflow:loss = 0.3709268, step = 4700 (0.260 sec)\n",
            "INFO:tensorflow:global_step/sec: 440.595\n",
            "INFO:tensorflow:loss = 0.36682415, step = 4800 (0.224 sec)\n",
            "INFO:tensorflow:global_step/sec: 438.06\n",
            "INFO:tensorflow:loss = 0.37095463, step = 4900 (0.227 sec)\n",
            "INFO:tensorflow:Calling checkpoint listeners before saving checkpoint 5000...\n",
            "INFO:tensorflow:Saving checkpoints for 5000 into /tmp/tmptflmj4id/model.ckpt.\n",
            "INFO:tensorflow:Calling checkpoint listeners after saving checkpoint 5000...\n",
            "INFO:tensorflow:Loss for final step: 0.36121002.\n"
          ]
        },
        {
          "output_type": "execute_result",
          "data": {
            "text/plain": [
              "<tensorflow_estimator.python.estimator.canned.dnn.DNNClassifierV2 at 0x7fafcd8ee690>"
            ]
          },
          "metadata": {},
          "execution_count": 24
        }
      ]
    },
    {
      "cell_type": "code",
      "source": [
        "x = lambda:print(\"hi\") # like def but lambda write a func in one line\n",
        "x() # this is not related to tensorflow but is to python"
      ],
      "metadata": {
        "id": "51iuexHQb6Im"
      },
      "execution_count": null,
      "outputs": []
    },
    {
      "cell_type": "code",
      "source": [
        "eval_result = classifier.evaluate(\n",
        "    input_fn=lambda: input_fn(test, test_y, training=False))\n",
        "\n",
        "print('\\nTest set accuracy: {accuracy:0.3f}\\n'.format(**eval_result))"
      ],
      "metadata": {
        "colab": {
          "base_uri": "https://localhost:8080/"
        },
        "id": "pBhAodOcZsQu",
        "outputId": "e3c02da2-8095-454f-c363-6d9d787f08f1"
      },
      "execution_count": 25,
      "outputs": [
        {
          "output_type": "stream",
          "name": "stdout",
          "text": [
            "INFO:tensorflow:Calling model_fn.\n",
            "INFO:tensorflow:Done calling model_fn.\n",
            "INFO:tensorflow:Starting evaluation at 2021-12-30T03:53:13\n",
            "INFO:tensorflow:Graph was finalized.\n",
            "INFO:tensorflow:Restoring parameters from /tmp/tmptflmj4id/model.ckpt-5000\n",
            "INFO:tensorflow:Running local_init_op.\n",
            "INFO:tensorflow:Done running local_init_op.\n",
            "INFO:tensorflow:Inference Time : 0.31273s\n",
            "INFO:tensorflow:Finished evaluation at 2021-12-30-03:53:13\n",
            "INFO:tensorflow:Saving dict for global step 5000: accuracy = 0.93333334, average_loss = 0.4238896, global_step = 5000, loss = 0.4238896\n",
            "INFO:tensorflow:Saving 'checkpoint_path' summary for global step 5000: /tmp/tmptflmj4id/model.ckpt-5000\n",
            "\n",
            "Test set accuracy: 0.933\n",
            "\n"
          ]
        }
      ]
    },
    {
      "cell_type": "code",
      "source": [
        "def input_fn(features, batch_size=256):\n",
        "    # Convert the inputs to a Dataset without labels.\n",
        "    return tf.data.Dataset.from_tensor_slices(dict(features)).batch(batch_size)\n",
        "\n",
        "features = ['SepalLength', 'SepalWidth', 'PetalLength', 'PetalWidth']\n",
        "predict = {}\n",
        "\n",
        "print(\"Please type numeric float values as prompted.\")\n",
        "for feature in features:\n",
        "  valid = True\n",
        "  while valid: \n",
        "    val = input(feature + \": \")\n",
        "    if not val.isdigit(): valid = False\n",
        "\n",
        "  predict[feature] = [float(val)]\n",
        "\n",
        "predictions = classifier.predict(input_fn=lambda: input_fn(predict))\n",
        "for pred_dict in predictions:\n",
        "    print(pred_dict)\n",
        "    class_id = pred_dict['class_ids'][0]\n",
        "    probability = pred_dict['probabilities'][class_id]\n",
        "    print('Prediction is \"{}\" ({:.1f}%)'.format(\n",
        "        SPECIES[class_id], 100 * probability))\n",
        "    \n"
      ],
      "metadata": {
        "colab": {
          "base_uri": "https://localhost:8080/"
        },
        "id": "Owjan-jkbbRg",
        "outputId": "7be73bb7-1ec7-4370-87c6-3da5fae29796"
      },
      "execution_count": 58,
      "outputs": [
        {
          "output_type": "stream",
          "name": "stdout",
          "text": [
            "Please type numeric float values as prompted.\n",
            "SepalLength: 5.1\n",
            "SepalWidth: 3.3\n",
            "PetalLength: 1.7\n",
            "PetalWidth: 0.5\n",
            "INFO:tensorflow:Calling model_fn.\n",
            "INFO:tensorflow:Done calling model_fn.\n",
            "INFO:tensorflow:Graph was finalized.\n",
            "INFO:tensorflow:Restoring parameters from /tmp/tmptflmj4id/model.ckpt-5000\n",
            "INFO:tensorflow:Running local_init_op.\n",
            "INFO:tensorflow:Done running local_init_op.\n",
            "{'logits': array([ 0.7557331, -1.3441986, -3.385852 ], dtype=float32), 'probabilities': array([0.87845486, 0.10757979, 0.01396535], dtype=float32), 'class_ids': array([0]), 'classes': array([b'0'], dtype=object), 'all_class_ids': array([0, 1, 2], dtype=int32), 'all_classes': array([b'0', b'1', b'2'], dtype=object)}\n",
            "Prediction is \"Setosa\" (87.8%)\n"
          ]
        }
      ]
    },
    {
      "cell_type": "code",
      "source": [
        "    probabilityxxx = pred_dict['probabilities'] * 100\n",
        "    print('Predictions for Setosa, Versicolor, Virginica are:\\n',\n",
        "        probabilityxxx, '%')"
      ],
      "metadata": {
        "colab": {
          "base_uri": "https://localhost:8080/"
        },
        "id": "fF2kcU36mp3n",
        "outputId": "9f4836eb-bbd0-47ca-f3d8-e398c2124a50"
      },
      "execution_count": 59,
      "outputs": [
        {
          "output_type": "stream",
          "name": "stdout",
          "text": [
            "Predictions for Setosa, Versicolor, Virginica are:\n",
            " [87.84549   10.757979   1.3965349] %\n"
          ]
        }
      ]
    },
    {
      "cell_type": "code",
      "source": [
        "# Here is some example input and expected classes you can try above\n",
        "expected = ['Setosa', 'Versicolor', 'Virginica']\n",
        "predict_x = {\n",
        "    'SepalLength': [5.1, 5.9, 6.9],\n",
        "    'SepalWidth': [3.3, 3.0, 3.1],\n",
        "    'PetalLength': [1.7, 4.2, 5.4],\n",
        "    'PetalWidth': [0.5, 1.5, 2.1],\n",
        "}"
      ],
      "metadata": {
        "id": "fZAH8UMjbbh3"
      },
      "execution_count": null,
      "outputs": []
    }
  ]
}